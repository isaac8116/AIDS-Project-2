{
 "cells": [
  {
   "cell_type": "markdown",
   "id": "1cb84ac3",
   "metadata": {},
   "source": [
    "# Reddit Product Review Scraper\n",
    "This notebook uses the Reddit API to search for product reviews across various subreddits."
   ]
  },
  {
   "cell_type": "code",
   "execution_count": 1,
   "id": "7665a128",
   "metadata": {},
   "outputs": [],
   "source": [
    "import json\n",
    "import praw\n",
    "import pandas as pd\n",
    "import os\n",
    "from pathlib import Path"
   ]
  },
  {
   "cell_type": "markdown",
   "id": "61b9f9fa",
   "metadata": {},
   "source": [
    "## Setup Reddit API"
   ]
  },
  {
   "cell_type": "code",
   "execution_count": 2,
   "id": "f85726ea",
   "metadata": {},
   "outputs": [],
   "source": [
    "# Reddit API credentials\n",
    "reddit = praw.Reddit(\n",
    "    client_id='RhCT2FHyjBBd1AjbnqylMQ',\n",
    "    client_secret='A_wD-PpvLqLY9w-8VgB54hzkbHSuYA',\n",
    "    user_agent='Izowk'\n",
    ")"
   ]
  },
  {
   "cell_type": "markdown",
   "id": "8c3acef6",
   "metadata": {},
   "source": [
    "## Load Product Data"
   ]
  },
  {
   "cell_type": "code",
   "execution_count": 3,
   "id": "50b25c23",
   "metadata": {},
   "outputs": [],
   "source": [
    "PRODUCT = \"wireless over-ear headphones\""
   ]
  },
  {
   "cell_type": "code",
   "execution_count": 4,
   "id": "27132296",
   "metadata": {},
   "outputs": [
    {
     "data": {
      "text/plain": [
       "['Bose QuietComfort Ultra Headphones',\n",
       " 'Sony WH-1000XM5',\n",
       " 'Focal Bathys',\n",
       " 'Anker Soundcore Space One',\n",
       " 'Apple AirPods Max']"
      ]
     },
     "metadata": {},
     "output_type": "display_data"
    }
   ],
   "source": [
    "DATA_DIR = Path(\"session\") / PRODUCT\n",
    "META_PATH = DATA_DIR / \"stage_1.json\"\n",
    "assert META_PATH.exists(), \"Run 1_describe_product.ipynb first!\"\n",
    "\n",
    "with open(META_PATH, \"r\") as f:\n",
    "    metadata = json.load(f)\n",
    "\n",
    "competitors = [o[\"name\"] for o in metadata[\"competition_products\"]]\n",
    "display(competitors)\n"
   ]
  },
  {
   "cell_type": "markdown",
   "id": "62b7bd43",
   "metadata": {},
   "source": [
    "## Define Subreddits to Search"
   ]
  },
  {
   "cell_type": "code",
   "execution_count": 5,
   "id": "edfdaa1f",
   "metadata": {},
   "outputs": [],
   "source": [
    "# General-purpose subreddits for coverage\n",
    "subreddits_to_search = [\n",
    "    'all', 'popular', 'AskReddit', 'NoStupidQuestions', 'OutOfTheLoop',\n",
    "    'TooAfraidToAsk', 'CasualConversation', 'TrueAskReddit', 'Advice',\n",
    "    'LifeProTips', 'IWantToLearn', 'AskMen', 'AskWomen',\n",
    "    'ProductAdvice', 'ShouldIbuythis', 'BuyItForLife'\n",
    "]"
   ]
  },
  {
   "cell_type": "markdown",
   "id": "f1ac65b4",
   "metadata": {},
   "source": [
    "## Search Reddit and Save Data"
   ]
  },
  {
   "cell_type": "code",
   "execution_count": null,
   "id": "deb18e05",
   "metadata": {},
   "outputs": [
    {
     "name": "stdout",
     "output_type": "stream",
     "text": [
      "\n",
      "Searching Reddit for: 'Bose QuietComfort Ultra Headphones review' across general-purpose subreddits...\n",
      "\n",
      "--- Searching r/all ---\n",
      "After a week of researching, I finally bought a pair of Bose QuietComfort headphones!\n",
      "Sony xm5 vs bose qc ultra (headphones) review from a user perspective.\n",
      "Bose Quietcomfort Ultra review. Some poor product decisions by Bose.\n",
      "Sony WH-1000XM5 vs Bose QuietComfort Ultra Headphones\n",
      "Bose QuietComfort vs QuietComfort Ultra\n",
      "Bose QuietComfort Review (My Favourite)\n",
      "Where are the reviews for the Bose Quietcomfort Ultra headphones?\n",
      "Bose QuietComfort Ultra Headphones VS Sony WH-1000XM5\n",
      "Test Drive Review of Many 2024 ANC Headphones (and which one I picked)\n",
      "AirPods Max USB-C x Bose QuietComfort Ultra\n",
      "\n",
      "Done! 940 total entries (including posts) saved from 10 posts into Data/Bose_QuietComfort_Ultra_Headphones_reddit_review.csv\n",
      "\n",
      "Searching Reddit for: 'Sony WH-1000XM5 review' across general-purpose subreddits...\n",
      "\n",
      "--- Searching r/all ---\n",
      "Sony WH-1000XM5 Review: A Year of Silence, Snack Fails, and Sweaty Ears\n",
      "Sony WH-1000XM5 Review: Two Steps Forward, One Step Back! - MKBHD\n",
      "AirPods Max vs. Sony WH-1000XM5: My Review\n",
      "Sony xm5 vs bose qc ultra (headphones) review from a user perspective.\n",
      "Sony WH-1000XM5 vs Bose QuietComfort Ultra Headphones\n",
      "Finally im part of Sony’s family and im loving it🤩 (WH-1000XM5)\n",
      "Sony WH-1000XM5 Review: A Year of Silence, Snack Fails, and Sweaty Ears\n",
      "Bose QuietComfort Ultra Headphones VS Sony WH-1000XM5\n",
      "WH-1000XM5 vs WH-1000XM4 (Review)\n",
      "Sony WH-1000XM5 sound really mediocre?\n",
      "\n",
      "Done! 1152 total entries (including posts) saved from 10 posts into Data/Sony_WH-1000XM5_reddit_review.csv\n",
      "\n",
      "Searching Reddit for: 'Focal Bathys review' across general-purpose subreddits...\n",
      "\n",
      "--- Searching r/all ---\n",
      "[WTS] [US-CA] [H] Topping DX9, Sennheiser HD620S/HD560S/HD598SE/HD599SE/HD58X/HD6XX/HD600/HD650/HD660S/HD660S2, DT 1990 Pro, Meze 99 Classics, Meze 109 Pro, DC Aeon 2 Noire, Focal Bathys, AKG K712 Pro, Hart Audio Cables, and more [W] Paypal\n",
      "Review of the new Focal headphones: Hadenys (vs Elex and HD 600) and Azurys (vs Bathys)\n",
      "If you are thinking of buying airpod maxes, spend the extra 100$ and buy Focal Bathys\n",
      "Review: Focal Bathys vs. B&W PX8 as a Hifiman Arya owner\n",
      "Ally X, Focal Bathys, Killswitch, Dark Circuit.\n",
      "Focal Bathys - Critical review (vs XM5 and others)\n",
      "Focal Bathys Bluetooth ANC Headphones Review (TechPowerUp)\n",
      "Focal Azurys review & comparison to Bathys, Elegia and Hadenys\n",
      "Ecoute TH1 Vacuum Tube Headphones - Over-The-Ear Wireless LDAC Bluetooth Headset with ANC, Long Battery Life, Superb Looks - In-Depth Written Review (including comparisons with Focal Bathys)\n",
      "Dali IO-12 Review: The MOST Comfortable Audiophile Headphones? (vs. Focal Bathys & B&W Px8)\n",
      "\n",
      "Done! 387 total entries (including posts) saved from 10 posts into Data/Focal_Bathys_reddit_review.csv\n",
      "\n",
      "Searching Reddit for: 'Anker Soundcore Space One review' across general-purpose subreddits...\n",
      "\n",
      "--- Searching r/all ---\n",
      "Anker Soundcore Life Q20 Wireless (2025): Still the Best Budget Headphones? Review & Alternatives\n",
      "Anker Soundcore Bluetooth Speakers (2025): Best Models Compared & Reviewed!\n",
      "Anker Soundcore Boost (2025): Is It Still the Best Budget Bluetooth Speaker? Review & Alternatives\n",
      "Soundcore Anker Life Q20 (2025): Still Worth It? Review & Alternatives Compared!\n",
      "Anker Soundcore App (2025): Best EQ & Customization? Review & Alternatives\n",
      "Anker Soundcore Earbuds 2025: Best Models Compared & Expert Recommendations!\n",
      "Anker Soundcore Speaker Review 2025: Which Model is BEST for YOU?\n",
      "Anker Nebula Capsule (2025): Is it STILL Worth it? Review & Alternatives\n",
      "Honest Soundcore Space One A3035 Active Noise Cancelling Headphones review\n",
      "Soundcore Space One Pro short review\n",
      "\n",
      "Done! 19 total entries (including posts) saved from 10 posts into Data/Anker_Soundcore_Space_One_reddit_review.csv\n",
      "\n",
      "Searching Reddit for: 'Apple AirPods Max review' across general-purpose subreddits...\n",
      "\n",
      "--- Searching r/all ---\n",
      "One Month with iPhone 16 Pro as a New Apple User – My Honest Review\n",
      "AirPods Max Review: Luxury Listening!\n",
      "AirPods Pro 2: Long-Term Review \n",
      "AirPods Max vs. Sony WH-1000XM5: My Review\n",
      "Apple AirPods Max Review: The Audiophile's Perspective\n",
      "Updated AirPods Max Tuning, as measured on Soundguys B&K 5128\n",
      "Honest Airpod Max Metal Review 790¥\n",
      "Sony XM3 vs XM5 vs AirPods Max vs Bose QC ultra headphones\n",
      "Got scammed with Apple AirPods Max on Facebook marketplace\n",
      "Apple AirPods Max: Measurements & First Impressions\n",
      "\n",
      "Done! 2228 total entries (including posts) saved from 10 posts into Data/Apple_AirPods_Max_reddit_review.csv\n"
     ]
    }
   ],
   "source": [
    "# Run for each product\n",
    "for search_topic in competitors:\n",
    "    search_query = f\"{search_topic} review\"\n",
    "    post_limit = 10\n",
    "    filename = f\"{search_topic.replace(' ', '_')}_reddit_review\"\n",
    "\n",
    "    data = []\n",
    "    valid_posts = 0\n",
    "\n",
    "    print(f\"\\nSearching Reddit for: '{search_query}' across general-purpose subreddits...\\n\")\n",
    "\n",
    "    for subreddit_name in subreddits_to_search:\n",
    "        print(f\"--- Searching r/{subreddit_name} ---\")\n",
    "        subreddit = reddit.subreddit(subreddit_name)\n",
    "\n",
    "        try:\n",
    "            for submission in subreddit.search(search_query, limit=50):\n",
    "                if submission.stickied:\n",
    "                    continue\n",
    "\n",
    "                print(f\"{submission.title}\")\n",
    "                submission.comments.replace_more(limit=0)\n",
    "\n",
    "                # Add the post itself as a \"comment\"\n",
    "                data.append({\n",
    "                    'subreddit': subreddit_name,\n",
    "                    'post_title': submission.title,\n",
    "                    'post_url': submission.url,\n",
    "                    'comment_body': submission.selftext if submission.selftext else submission.title,\n",
    "                    'comment_author': str(submission.author),\n",
    "                    'comment_score': submission.score,\n",
    "                    'comment_created_utc': submission.created_utc\n",
    "                })\n",
    "\n",
    "                # Add comments\n",
    "                for comment in submission.comments.list():\n",
    "                    data.append({\n",
    "                        'subreddit': subreddit_name,\n",
    "                        'post_title': submission.title,\n",
    "                        'post_url': submission.url,\n",
    "                        'comment_body': comment.body,\n",
    "                        'comment_author': str(comment.author),\n",
    "                        'comment_score': comment.score,\n",
    "                        'comment_created_utc': comment.created_utc\n",
    "                    })\n",
    "\n",
    "                valid_posts += 1\n",
    "                if valid_posts >= post_limit:\n",
    "                    raise StopIteration\n",
    "\n",
    "        except StopIteration:\n",
    "            break\n",
    "        except Exception as e:\n",
    "            print(f\"Error searching r/{subreddit_name}: {e}\")\n",
    "            continue\n",
    "\n",
    "    # Save as CSV\n",
    "    folder = str(DATA_DIR / \"reddit\")\n",
    "    os.makedirs(folder, exist_ok=True)\n",
    "    df = pd.DataFrame(data)\n",
    "    csv_filename = os.path.join(folder, f\"{filename}.csv\")\n",
    "    df.to_csv(csv_filename, index=False, encoding='utf-8')\n",
    "\n",
    "    print(f\"\\nDone! {len(df)} total entries (including posts) saved from {valid_posts} posts into {csv_filename}\")"
   ]
  }
 ],
 "metadata": {
  "kernelspec": {
   "display_name": ".venv",
   "language": "python",
   "name": "python3"
  },
  "language_info": {
   "codemirror_mode": {
    "name": "ipython",
    "version": 3
   },
   "file_extension": ".py",
   "mimetype": "text/x-python",
   "name": "python",
   "nbconvert_exporter": "python",
   "pygments_lexer": "ipython3",
   "version": "3.12.9"
  }
 },
 "nbformat": 4,
 "nbformat_minor": 5
}
