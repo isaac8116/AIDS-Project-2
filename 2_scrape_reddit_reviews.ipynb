{
 "cells": [
  {
   "cell_type": "markdown",
   "id": "1cb84ac3",
   "metadata": {},
   "source": [
    "# Reddit Product Review Scraper\n",
    "This notebook uses the Reddit API to search for product reviews across various subreddits."
   ]
  },
  {
   "cell_type": "code",
   "execution_count": 1,
   "id": "7665a128",
   "metadata": {},
   "outputs": [
    {
     "ename": "ModuleNotFoundError",
     "evalue": "No module named 'praw'",
     "output_type": "error",
     "traceback": [
      "\u001b[31m---------------------------------------------------------------------------\u001b[39m",
      "\u001b[31mModuleNotFoundError\u001b[39m                       Traceback (most recent call last)",
      "\u001b[36mCell\u001b[39m\u001b[36m \u001b[39m\u001b[32mIn[1]\u001b[39m\u001b[32m, line 2\u001b[39m\n\u001b[32m      1\u001b[39m \u001b[38;5;28;01mimport\u001b[39;00m\u001b[38;5;250m \u001b[39m\u001b[34;01mjson\u001b[39;00m\n\u001b[32m----> \u001b[39m\u001b[32m2\u001b[39m \u001b[38;5;28;01mimport\u001b[39;00m\u001b[38;5;250m \u001b[39m\u001b[34;01mpraw\u001b[39;00m\n\u001b[32m      3\u001b[39m \u001b[38;5;28;01mimport\u001b[39;00m\u001b[38;5;250m \u001b[39m\u001b[34;01mpandas\u001b[39;00m\u001b[38;5;250m \u001b[39m\u001b[38;5;28;01mas\u001b[39;00m\u001b[38;5;250m \u001b[39m\u001b[34;01mpd\u001b[39;00m\n\u001b[32m      4\u001b[39m \u001b[38;5;28;01mimport\u001b[39;00m\u001b[38;5;250m \u001b[39m\u001b[34;01mos\u001b[39;00m\n",
      "\u001b[31mModuleNotFoundError\u001b[39m: No module named 'praw'"
     ]
    }
   ],
   "source": [
    "import json\n",
    "import praw\n",
    "import pandas as pd\n",
    "import os\n",
    "from pathlib import Path"
   ]
  },
  {
   "cell_type": "markdown",
   "id": "61b9f9fa",
   "metadata": {},
   "source": [
    "## Setup Reddit API"
   ]
  },
  {
   "cell_type": "code",
   "execution_count": null,
   "id": "f85726ea",
   "metadata": {},
   "outputs": [],
   "source": [
    "# Reddit API credentials\n",
    "reddit = praw.Reddit(\n",
    "    client_id='RhCT2FHyjBBd1AjbnqylMQ',\n",
    "    client_secret='A_wD-PpvLqLY9w-8VgB54hzkbHSuYA',\n",
    "    user_agent='Izowk'\n",
    ")"
   ]
  },
  {
   "cell_type": "markdown",
   "id": "8c3acef6",
   "metadata": {},
   "source": [
    "## Load Product Data"
   ]
  },
  {
   "cell_type": "code",
   "execution_count": null,
   "id": "27132296",
   "metadata": {},
   "outputs": [],
   "source": [
    "DATA_DIR = Path(\"session\") / PRODUCT\n",
    "META_PATH = DATA_DIR / \"stage_1.json\"\n",
    "assert META_PATH.exists(), \"Run 1_describe_product.ipynb first!\"\n",
    "\n",
    "with open(META_PATH, \"r\") as f:\n",
    "    metadata = json.load(f)\n",
    "\n",
    "competitors = [o[\"name\"] for o in metadata[\"competition_products\"]]\n",
    "display(competitors)\n"
   ]
  },
  {
   "cell_type": "markdown",
   "id": "62b7bd43",
   "metadata": {},
   "source": [
    "## Define Subreddits to Search"
   ]
  },
  {
   "cell_type": "code",
   "execution_count": null,
   "id": "edfdaa1f",
   "metadata": {},
   "outputs": [],
   "source": [
    "# General-purpose subreddits for coverage\n",
    "subreddits_to_search = [\n",
    "    'all', 'popular', 'AskReddit', 'NoStupidQuestions', 'OutOfTheLoop',\n",
    "    'TooAfraidToAsk', 'CasualConversation', 'TrueAskReddit', 'Advice',\n",
    "    'LifeProTips', 'IWantToLearn', 'AskMen', 'AskWomen',\n",
    "    'ProductAdvice', 'ShouldIbuythis', 'BuyItForLife'\n",
    "]"
   ]
  },
  {
   "cell_type": "markdown",
   "id": "f1ac65b4",
   "metadata": {},
   "source": [
    "## Search Reddit and Save Data"
   ]
  },
  {
   "cell_type": "code",
   "execution_count": null,
   "id": "deb18e05",
   "metadata": {},
   "outputs": [],
   "source": [
    "# Run for each product\n",
    "for search_topic in competitors:\n",
    "    search_query = f\"{search_topic} review\"\n",
    "    post_limit = 10\n",
    "    filename = f\"{search_topic.replace(' ', '_')}_reddit_review\"\n",
    "\n",
    "    data = []\n",
    "    valid_posts = 0\n",
    "\n",
    "    print(f\"\\nSearching Reddit for: '{search_query}' across general-purpose subreddits...\\n\")\n",
    "\n",
    "    for subreddit_name in subreddits_to_search:\n",
    "        print(f\"--- Searching r/{subreddit_name} ---\")\n",
    "        subreddit = reddit.subreddit(subreddit_name)\n",
    "\n",
    "        try:\n",
    "            for submission in subreddit.search(search_query, limit=50):\n",
    "                if submission.stickied:\n",
    "                    continue\n",
    "\n",
    "                print(f\"{submission.title}\")\n",
    "                submission.comments.replace_more(limit=0)\n",
    "\n",
    "                # Add the post itself as a \"comment\"\n",
    "                data.append({\n",
    "                    'subreddit': subreddit_name,\n",
    "                    'post_title': submission.title,\n",
    "                    'post_url': submission.url,\n",
    "                    'comment_body': submission.selftext if submission.selftext else submission.title,\n",
    "                    'comment_author': str(submission.author),\n",
    "                    'comment_score': submission.score,\n",
    "                    'comment_created_utc': submission.created_utc\n",
    "                })\n",
    "\n",
    "                # Add comments\n",
    "                for comment in submission.comments.list():\n",
    "                    data.append({\n",
    "                        'subreddit': subreddit_name,\n",
    "                        'post_title': submission.title,\n",
    "                        'post_url': submission.url,\n",
    "                        'comment_body': comment.body,\n",
    "                        'comment_author': str(comment.author),\n",
    "                        'comment_score': comment.score,\n",
    "                        'comment_created_utc': comment.created_utc\n",
    "                    })\n",
    "\n",
    "                valid_posts += 1\n",
    "                if valid_posts >= post_limit:\n",
    "                    raise StopIteration\n",
    "\n",
    "        except StopIteration:\n",
    "            break\n",
    "        except Exception as e:\n",
    "            print(f\"Error searching r/{subreddit_name}: {e}\")\n",
    "            continue\n",
    "\n",
    "    # Save as CSV\n",
    "    folder = \"Data\"\n",
    "    os.makedirs(folder, exist_ok=True)\n",
    "    df = pd.DataFrame(data)\n",
    "    csv_filename = os.path.join(folder, f\"{filename}.csv\")\n",
    "    df.to_csv(csv_filename, index=False, encoding='utf-8')\n",
    "\n",
    "    print(f\"\\nDone! {len(df)} total entries (including posts) saved from {valid_posts} posts into {csv_filename}\")"
   ]
  }
 ],
 "metadata": {
  "kernelspec": {
   "display_name": ".venv",
   "language": "python",
   "name": "python3"
  },
  "language_info": {
   "codemirror_mode": {
    "name": "ipython",
    "version": 3
   },
   "file_extension": ".py",
   "mimetype": "text/x-python",
   "name": "python",
   "nbconvert_exporter": "python",
   "pygments_lexer": "ipython3",
   "version": "3.12.9"
  }
 },
 "nbformat": 4,
 "nbformat_minor": 5
}
